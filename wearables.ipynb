{
 "cells": [
  {
   "cell_type": "markdown",
   "id": "844860da-c9de-47a7-81f8-72267a01d490",
   "metadata": {},
   "source": [
    "# Measuring behaviour from cameras and accelerometer"
   ]
  },
  {
   "cell_type": "code",
   "execution_count": null,
   "id": "3f4ca30e-d469-41d7-9fdb-f209f0ff0017",
   "metadata": {},
   "outputs": [],
   "source": [
    "# Imports\n",
    "import sys\n",
    "from pathlib import Path\n",
    "from datetime import datetime, timedelta\n",
    "import numpy as np\n",
    "import matplotlib.pyplot as plt\n",
    "from matplotlib.offsetbox import AnnotationBbox, OffsetImage\n",
    "from PIL import Image\n",
    "import actipy  # for reading in accelerometer data\n",
    "\n",
    "sys.path.append(\"scripts\")\n",
    "# Local scripts\n",
    "import autographer"
   ]
  },
  {
   "cell_type": "markdown",
   "id": "5cb2c846-7e4e-4eff-97ee-674006d5829a",
   "metadata": {},
   "source": [
    "# 1. Prepare camera and accelerometer data"
   ]
  },
  {
   "cell_type": "markdown",
   "id": "76f61d90-3a17-4e07-b3dc-afacfe442a0b",
   "metadata": {},
   "source": [
    "## Camera processing\n",
    "Plug in the Autographer wearable camera to the computer. "
   ]
  },
  {
   "cell_type": "code",
   "execution_count": null,
   "id": "ac945807-dcb1-4ac4-8a71-05a35658b2d9",
   "metadata": {},
   "outputs": [],
   "source": [
    "# Check the Autographer pops up, i.e. no \"No such file or directory\" errors\n",
    "!ls /Volumes/Autographer/DATA"
   ]
  },
  {
   "cell_type": "code",
   "execution_count": null,
   "id": "6493e884-2e52-4b36-8786-26ba689fcd02",
   "metadata": {},
   "outputs": [],
   "source": [
    "# Download the data\n",
    "autographer.downloadData(\"/Volumes/Autographer/\", \"raw_data/camera/\")"
   ]
  },
  {
   "cell_type": "code",
   "execution_count": null,
   "id": "d24039d5-9329-4e38-a628-422fee894f14",
   "metadata": {},
   "outputs": [],
   "source": [
    "# If the above was successful probably want to delete the camera data\n",
    "# autographer.deleteCameraData(\"/Volumes/Autographer/\") # uncomment to run"
   ]
  },
  {
   "cell_type": "code",
   "execution_count": null,
   "id": "f3e9843c-7d97-44f7-b3f5-0b0dcfc03dbb",
   "metadata": {},
   "outputs": [],
   "source": [
    "# Get timestamps from paths\n",
    "#             \"20231114_182809\"\n",
    "time_format = \"%Y%m%d_%H%M%S\"\n",
    "\n",
    "\n",
    "def get_img_times(paths):\n",
    "    return [datetime.strptime(path.parts[-1][17:32], time_format) for path in paths]"
   ]
  },
  {
   "cell_type": "code",
   "execution_count": null,
   "id": "28285948-bd3f-4f82-b297-4f71d11a1280",
   "metadata": {},
   "outputs": [],
   "source": [
    "# Get the list of image file paths\n",
    "small_img_paths = list(Path(\"raw_data/camera/small\").glob(\"*.JPG\"))\n",
    "small_img_times = get_img_times(small_img_paths)\n",
    "\n",
    "tuples = list(zip(small_img_paths, small_img_times))\n",
    "tuples.sort(key=lambda x: x[0])\n",
    "\n",
    "small_img_paths, small_img_times = zip(*tuples)"
   ]
  },
  {
   "cell_type": "code",
   "execution_count": null,
   "id": "fae25b96-a078-4ca1-855f-fe17eaaf2118",
   "metadata": {},
   "outputs": [],
   "source": [
    "# Visualise some\n",
    "n_imgs_to_show = 10\n",
    "\n",
    "for img_path, img_time in zip(\n",
    "    small_img_paths[:n_imgs_to_show], small_img_times[:n_imgs_to_show]\n",
    "):\n",
    "    plt.imshow(Image.open(img_path))\n",
    "    plt.title(img_time.strftime(\"%Hh%Mm%Ss\"))\n",
    "    plt.show()"
   ]
  },
  {
   "cell_type": "markdown",
   "id": "e090155b-21b2-4897-a24e-26b503e5a908",
   "metadata": {},
   "source": [
    "## Accelerometer processing\n",
    "Plug in the Axivity"
   ]
  },
  {
   "cell_type": "code",
   "execution_count": null,
   "id": "5fecc4b3-38c9-41a0-b009-4083b8759018",
   "metadata": {},
   "outputs": [],
   "source": [
    "# Check the Autographer pops up, i.e. something like AX317_43923 under /Volumes\n",
    "!ls /Volumes"
   ]
  },
  {
   "cell_type": "code",
   "execution_count": null,
   "id": "42505dd3-0a2d-4a7f-8a7a-aae54e288b94",
   "metadata": {},
   "outputs": [],
   "source": [
    "%%bash\n",
    "# Copy the .CWA file to raw_data/accelerometer\n",
    "mkdir raw_data/accelerometer\n",
    "mv /Volumes/AX317_43923/CWA-DATA.CWA raw_data/accelerometer/CWA-DATA.CWA\n",
    "ls raw_data/accelerometer"
   ]
  },
  {
   "cell_type": "code",
   "execution_count": null,
   "id": "f5747440-e48c-45ac-9d2f-13fb7cdc4c44",
   "metadata": {},
   "outputs": [],
   "source": [
    "# Accelerometer reading in\n",
    "ax3_data, info = actipy.read_device(\n",
    "    \"raw_data/accelerometer/CWA-DATA.CWA\",\n",
    "    lowpass_hz=20,\n",
    "    calibrate_gravity=True,\n",
    "    detect_nonwear=True,\n",
    "    resample_hz=30,\n",
    ")"
   ]
  },
  {
   "cell_type": "code",
   "execution_count": null,
   "id": "a7e39538-9de2-4a73-b67d-cab784f9200c",
   "metadata": {},
   "outputs": [],
   "source": [
    "# img\n",
    "image_datetimes = np.array(small_img_times, dtype=np.datetime64)\n",
    "image_paths = np.array(small_img_paths)\n",
    "\n",
    "# axivity\n",
    "sensor_datetimes = ax3_data.index.to_numpy()\n",
    "accelerometer_readings = ax3_data[[\"x\", \"y\", \"z\"]].to_numpy()\n",
    "light_readings = ax3_data[\"light\"].to_numpy()\n",
    "temperature_readings = ax3_data[\"temperature\"].to_numpy()"
   ]
  },
  {
   "cell_type": "code",
   "execution_count": null,
   "id": "13929893-984a-441f-81d1-52ba409ad313",
   "metadata": {},
   "outputs": [],
   "source": [
    "class TimeScale:\n",
    "    def __init__(self, times):\n",
    "        self.min_time = np.min(times)\n",
    "        self.max_time = np.max(times)\n",
    "        self.scale = self.max_time - self.min_time\n",
    "\n",
    "    def to_unit(self, times):\n",
    "        \"\"\"\n",
    "        datetime -> [0,1]\n",
    "        \"\"\"\n",
    "        return (times - self.min_time) / self.scale\n",
    "\n",
    "    def to_scale(self, floats):\n",
    "        \"\"\"\n",
    "        [0,1] -> datetime\n",
    "        \"\"\"\n",
    "        return floats * self.scale + self.min_time\n",
    "\n",
    "    def to_str(self, floats):\n",
    "        \"\"\"\n",
    "        [0,1] -> str\n",
    "        \"\"\"\n",
    "        times = self.to_scale(floats)\n",
    "        return np.datetime_as_string(times)\n",
    "\n",
    "\n",
    "def mask_times(\n",
    "    start_time: np.datetime64,\n",
    "    duration: np.timedelta64,\n",
    "    times: np.ndarray[np.datetime64],\n",
    "    *arrays: np.ndarray\n",
    "):\n",
    "    stop_time = start_time + duration\n",
    "    mask = np.logical_and(times >= start_time, times < stop_time)\n",
    "    to_return = []\n",
    "    for array in arrays:\n",
    "        to_return.append(array[mask])\n",
    "    return (times[mask], *to_return)"
   ]
  },
  {
   "cell_type": "code",
   "execution_count": null,
   "id": "79daed26-962c-4a67-9e63-ced2583e4edc",
   "metadata": {},
   "outputs": [],
   "source": [
    "# Prepare a window of data\n",
    "start_time = image_datetimes[50]\n",
    "duration = np.timedelta64(30, \"s\")\n",
    "\n",
    "# sub sample given window\n",
    "(sub_image_datetimes, sub_image_paths) = mask_times(\n",
    "    start_time, duration, image_datetimes, image_paths\n",
    ")\n",
    "\n",
    "(\n",
    "    sub_sensor_datetimes,\n",
    "    sub_accelerometer_readings,\n",
    "    sub_light_readings,\n",
    "    sub_temperature_readings,\n",
    ") = mask_times(\n",
    "    start_time,\n",
    "    duration,\n",
    "    sensor_datetimes,\n",
    "    accelerometer_readings,\n",
    "    light_readings,\n",
    "    temperature_readings,\n",
    ")\n",
    "\n",
    "# Transform time steps to [0,1]\n",
    "ts = TimeScale(np.concatenate([sub_image_datetimes, sub_sensor_datetimes]))\n",
    "sub_image_unittimes = ts.to_unit(sub_image_datetimes)\n",
    "sub_sensor_unittimes = ts.to_unit(sub_sensor_datetimes)"
   ]
  },
  {
   "cell_type": "code",
   "execution_count": null,
   "id": "52dbdc05-74ba-4a20-8504-72ef4ab8d19d",
   "metadata": {},
   "outputs": [],
   "source": [
    "# ====== Plot parameters\n",
    "img_zoom = 0.15  # how large the images appear on the plot\n",
    "fig, ax = plt.subplots(4, figsize=(10, 10), gridspec_kw={\"height_ratios\": [1, 1, 1, 1]})\n",
    "rotation = 0\n",
    "\n",
    "# Images\n",
    "for img_path, x in zip(sub_image_paths, sub_image_unittimes):\n",
    "    ax[0].add_artist(\n",
    "        AnnotationBbox(\n",
    "            OffsetImage(Image.open(img_path), zoom=img_zoom), xy=(x, 0.5), frameon=False\n",
    "        )\n",
    "    )\n",
    "ax[0].set_ylabel(\"Camera\", rotation=0, ha=\"right\")\n",
    "ax[0].set_yticks([])\n",
    "ax[0].set_xticks(sub_image_unittimes)\n",
    "str_times = [time[11:19] for time in ts.to_str(sub_image_unittimes)]\n",
    "ax[0].set_xticklabels(str_times, rotation=rotation)\n",
    "\n",
    "# Accelerometer\n",
    "for i in range(3):\n",
    "    ax[1].plot(\n",
    "        sub_sensor_unittimes,\n",
    "        sub_accelerometer_readings[:, i],\n",
    "        label=f'{[\"x\",\"y\",\"z\"][i]} axis',\n",
    "    )\n",
    "\n",
    "ax[1].legend(loc=\"upper right\")\n",
    "ax[1].set_ylabel(\"Accelerometer\", rotation=0, ha=\"right\")\n",
    "ax[1].set_xticklabels([])\n",
    "\n",
    "# Light\n",
    "ax[2].plot(sub_sensor_unittimes, sub_light_readings)\n",
    "ax[2].set_ylabel(\"Light\", rotation=0, ha=\"right\")\n",
    "ax[2].set_xticklabels([])\n",
    "\n",
    "# Temperature\n",
    "ax[3].plot(sub_sensor_unittimes, sub_temperature_readings)\n",
    "ax[3].set_ylabel(\"Temperature\", rotation=0, ha=\"right\")\n",
    "\n",
    "ticks = np.linspace(0, 1, 10)\n",
    "str_ticks = [time[11:19] for time in ts.to_str(ticks)]\n",
    "ax[3].set_xticks(ticks)\n",
    "ax[3].set_xticklabels(str_ticks, rotation=rotation)\n",
    "\n",
    "# Adjusting x-axis limits\n",
    "for a in ax:\n",
    "    a.set_xlim(-0.1, 1.1)\n",
    "\n",
    "plt.show()"
   ]
  }
 ],
 "metadata": {
  "kernelspec": {
   "display_name": "Python 3 (ipykernel)",
   "language": "python",
   "name": "python3"
  },
  "language_info": {
   "codemirror_mode": {
    "name": "ipython",
    "version": 3
   },
   "file_extension": ".py",
   "mimetype": "text/x-python",
   "name": "python",
   "nbconvert_exporter": "python",
   "pygments_lexer": "ipython3",
   "version": "3.10.13"
  }
 },
 "nbformat": 4,
 "nbformat_minor": 5
}
